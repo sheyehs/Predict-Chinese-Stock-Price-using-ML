{
 "cells": [
  {
   "cell_type": "code",
   "execution_count": 1,
   "id": "b4dbf2e3",
   "metadata": {},
   "outputs": [],
   "source": [
    "import pandas as pd \n",
    "import numpy as np\n",
    "import datetime as dt\n",
    "import os\n",
    "from sklearn import linear_model\n",
    "import warnings"
   ]
  },
  {
   "cell_type": "code",
   "execution_count": 2,
   "id": "1956746e",
   "metadata": {},
   "outputs": [],
   "source": [
    "warnings.filterwarnings('ignore')\n",
    "PATH = \"D:/csmar解压数据/\"  # 从csmar下载的原始数据的存放路径\n",
    "FILETYPE = \"csv\"  # 原始数据的文件格式\n",
    "DATE = [\"Trddt\"]  # 日期索引，根据raw data列名取值，另有取值'Accper'\n",
    "CODE = [\"Stkcd\"]  # 代码索引，根据raw data列名取值，另有取值'Symbol'"
   ]
  },
  {
   "cell_type": "markdown",
   "id": "52d0b178",
   "metadata": {},
   "source": [
    "# 1. Data Extraction\n",
    "定义用来从存放数据的文件夹中提取所需数据的函数。原始数据格式为表头表格，而目标数据格式一般是pivot table，准确地说，是横轴为样本、纵轴为日期、内容为取值的二维表格，并且在函数中会把日期转换为pandas.DatetimeIndex类型"
   ]
  },
  {
   "cell_type": "code",
   "execution_count": 3,
   "id": "a1e29e55",
   "metadata": {
    "scrolled": true
   },
   "outputs": [],
   "source": [
    "# 从原始数据中提取出数据透视表，并且会把index转化为pandas的日期索引\n",
    "def extract_variable(path:str=\"\", fileType=FILETYPE, variable:str=\"\", index:list=DATE, columns:list=CODE):\n",
    "    \"\"\"\n",
    "    path: fold address\n",
    "    fileType: \n",
    "    variable: column name of the target value in raw data\n",
    "    index: column name of the target index in raw data\n",
    "    columns: column name of the target columns in raw data\n",
    "    \"\"\"\n",
    "    # collect all data needed in the fold and print their names\n",
    "    filePathList = []\n",
    "    for root, dirs, files in os.walk(path):\n",
    "        for name in files:\n",
    "            if name.endswith(\".\"+fileType):\n",
    "                filePath = os.path.join(root, name)\n",
    "                filePathList.append(filePath)\n",
    "                print(filePath)\n",
    "    \n",
    "    # read files into DataFrame one by one\n",
    "    dfList = []\n",
    "    for filePath in filePathList:\n",
    "        df = eval(\"pd.read_\"+fileType+\"(filePath)\")\n",
    "        dfList.append(df)\n",
    "      \n",
    "    # concatenate DFs into one large table\n",
    "    all_df = pd.concat(dfList)\n",
    "    \n",
    "    # 只选沪深A股，若原始数据中有\"Markettype\"列\n",
    "    flag = False\n",
    "    if \"Markettype\" in all_df.columns:\n",
    "        all_df = all_df[all_df.loc[:,\"Markettype\"].isin([1,4])]  # 1，4在csmar中代表沪深主板\n",
    "        flag = True\n",
    "    \n",
    "    pivot_df = pd.pivot_table(all_df, values=variable, index=index, columns=columns) \n",
    "    \n",
    "    # 只选沪深A股，若若原始数据中无\"Markettype\"列，只能靠股票代码的数据(是int)来区分。不知两种方法快慢\n",
    "    if flag == False:\n",
    "        df1 = pivot_df.loc[:, 0:9999]\n",
    "        df2 = pivot_df.loc[:, 600000:609999]\n",
    "        pivot_df = pd.concat([df1, df2], axis=1)\n",
    "    \n",
    "    # 转换日期类型\n",
    "    pivot_df.index = pd.DatetimeIndex(pivot_df.index)\n",
    "    \n",
    "    return pivot_df"
   ]
  },
  {
   "cell_type": "code",
   "execution_count": 4,
   "id": "2d729807",
   "metadata": {},
   "outputs": [],
   "source": [
    "def extract_variable_oneFile(filePath:str=\"\", fileType=FILETYPE, variable:str=\"\", index:list=DATE, columns:list=CODE):\n",
    "    df = eval(\"pd.read_\"+fileType+\"(filePath)\")\n",
    "    \n",
    "    # 只选沪深A股\n",
    "    flag = False\n",
    "    if \"Markettype\" in df.columns:\n",
    "        df = df[df.loc[:,\"Markettype\"].isin([1,4])]\n",
    "        flag = True\n",
    "    \n",
    "    pivot_df = pd.pivot_table(df, values=variable, index=index, columns=columns) \n",
    "    \n",
    "    # 只选沪深A股\n",
    "    if flag == False:\n",
    "        df1 = pivot_df.loc[:, 0:9999]\n",
    "        df2 = pivot_df.loc[:, 600000:609999]\n",
    "        pivot_df = pd.concat([df1, df2], axis=1)\n",
    "               \n",
    "    pivot_df.index = pd.DatetimeIndex(pivot_df.index)\n",
    "    return pivot_df"
   ]
  },
  {
   "cell_type": "markdown",
   "id": "af9dbf80",
   "metadata": {},
   "source": [
    "# 2. Factor Construction"
   ]
  },
  {
   "cell_type": "markdown",
   "id": "d7d3491d",
   "metadata": {},
   "source": [
    "## 1. std_dolvol\n",
    "Monthly standard deviation of daily RMB trading volume"
   ]
  },
  {
   "cell_type": "code",
   "execution_count": null,
   "id": "1bd33ac1",
   "metadata": {},
   "outputs": [],
   "source": [
    "def get_std_dolvol(valvol:pd.DataFrame, path:str):\n",
    "    std_dolvol = valvol.resample(\"M\").apply(np.std)\n",
    "    \n",
    "    std_dolvol.T.to_csv(path)\n",
    "    # return std_dolvol.T"
   ]
  },
  {
   "cell_type": "code",
   "execution_count": null,
   "id": "36f07fb3",
   "metadata": {},
   "outputs": [],
   "source": [
    "df = extract_variable(path=PATH+\"01日个股回报率\", variable=\"Dnvaltrd\").loc['2000-01-01':'2021-11-30',:]\n",
    "df"
   ]
  },
  {
   "cell_type": "code",
   "execution_count": null,
   "id": "537fb665",
   "metadata": {},
   "outputs": [],
   "source": [
    "get_std_dolvol(df, \"C:/Users/ShaunMarx/助研_人大/Ourproject01_China_stock/Data/factors/std_dolvol.csv\")"
   ]
  },
  {
   "cell_type": "markdown",
   "id": "b494aa9f",
   "metadata": {},
   "source": [
    "## 2. zerotrade\n",
    "Turnover weighted number of zero trading days in month t − 1.  \n",
    "https://www.sciencedirect.com/science/article/abs/pii/S0304405X0600064X?via%3Dihub  \n",
    "己见：也许是容易引起误会的名称，实质上重心在turnover的倒数上，加入zerotradeday是针对停牌的修正。数值越大，流动性越低"
   ]
  },
  {
   "cell_type": "code",
   "execution_count": null,
   "id": "5879a67f",
   "metadata": {},
   "outputs": [],
   "source": [
    "def get_zerotrade(volume:pd.DataFrame, turnover:pd.DataFrame, path:str):\n",
    "    \n",
    "    notd = volume.iloc[:,0].resample(\"M\").apply(len)\n",
    "    noztd = volume.resample(\"M\").apply(pd.isna).resample(\"M\").apply(sum)\n",
    "    sot = turnover.resample(\"M\").sum().replace(0, np.nan)\n",
    "    #df = ( noztd + 1 / sot ) / notd\n",
    "    df = noztd + 1 / sot\n",
    "    df = df.apply(lambda x: x / notd)\n",
    "    df.T.to_csv(path)\n",
    "    \n",
    "    #return df.T"
   ]
  },
  {
   "cell_type": "code",
   "execution_count": null,
   "id": "f332b0cf",
   "metadata": {},
   "outputs": [],
   "source": [
    "df2 = extract_variable(path=PATH+\"03个股日交易衍生指标\",variable=\"Turnover\",\n",
    "                       index=['TradingDate'],columns=['Symbol']).loc['2000-01-01':'2021-11-30',:]\n",
    "df2"
   ]
  },
  {
   "cell_type": "code",
   "execution_count": null,
   "id": "f076ecbf",
   "metadata": {},
   "outputs": [],
   "source": [
    "get_zerotrade(volume=df, turnover=df2, path='C:/Users/ShaunMarx/助研_人大/Ourproject01_China_stock/Data/factors/zerotrade.csv')"
   ]
  },
  {
   "cell_type": "markdown",
   "id": "ecf0329a",
   "metadata": {},
   "source": [
    "## 3. atr\n",
    "The abnormal turnover ratio"
   ]
  },
  {
   "cell_type": "code",
   "execution_count": null,
   "id": "aedcc096",
   "metadata": {},
   "outputs": [],
   "source": [
    "mkt_tr = pd.read_excel('D:/csmar解压数据/A股市场换手率.xlsx', index_col=\"日期\", date_parser=\"%Y-%m-%d\")\n",
    "mkt_tr"
   ]
  },
  {
   "cell_type": "code",
   "execution_count": null,
   "id": "badd1fbc",
   "metadata": {},
   "outputs": [],
   "source": [
    "stk_tr = extract_variable(path=PATH+\"03个股日交易衍生指标\",variable=\"Turnover\",\n",
    "                       index=['TradingDate'],columns=['Symbol']).loc['1999-12-01':'2021-11-30',:]\n",
    "stk_tr"
   ]
  },
  {
   "cell_type": "code",
   "execution_count": null,
   "id": "076c107d",
   "metadata": {},
   "outputs": [],
   "source": [
    "def get_atr(stk_tr:pd.DataFrame, mkt_tr:pd.Series, path:str):\n",
    "    res_df = pd.DataFrame()\n",
    "    m_train_start = pd.date_range(start=\"1999-12-01\", end=\"2021-05-01\", freq=\"MS\") # MS: month start frequency\n",
    "    m_train_end = pd.date_range(start=\"2000-05-31\", end=\"2021-10-31\", freq=\"M\")  # M: month end frequency\n",
    "    m_test_start = pd.date_range(start=\"2000-06-01\", end=\"2021-11-01\", freq=\"MS\")\n",
    "    m_test_end = pd.date_range(start=\"2000-06-30\", end=\"2021-11-30\", freq=\"M\")\n",
    "    m_n = range(len(m_train_start))\n",
    "    for i in m_n:\n",
    "        stk_tr_train = stk_tr.loc[m_train_start[i]:m_train_end[i],:]\n",
    "        stk_tr_test = stk_tr.loc[m_test_start[i]:m_test_end[i],:]\n",
    "        mkt_tr_train = mkt_tr.loc[m_train_start[i]:m_train_end[i]]\n",
    "        mkt_tr_test = mkt_tr.loc[m_test_start[i]:m_test_end[i]]\n",
    "        for stk in stk_tr.columns:\n",
    "            y_train = stk_tr_train[stk]\n",
    "            y_test = stk_tr_test[stk]\n",
    "            \n",
    "            # x即市场换手率必定无缺，但y即个股换手率可能有缺（如停牌），故x要随y丢弃相应行\n",
    "            y_train.dropna(inplace=True)\n",
    "            x_train = mkt_tr_train.loc[y_train.index]\n",
    "            y_test.dropna(inplace=True)\n",
    "            x_test = mkt_tr_test.loc[y_test.index]\n",
    "            \n",
    "            if (y_train.empty or y_test.empty):\n",
    "                continue\n",
    "                \n",
    "            regr = linear_model.LinearRegression()\n",
    "                #x_y_train = pd.concat([x_train, y_train], axis=1)\n",
    "                #x_y_train.dropna(inplace=True)\n",
    "                #x_y_train.columns = ['x', 'y']\n",
    "                \n",
    "            regr.fit(x_train.to_numpy().reshape(-1,1), y_train.to_numpy())\n",
    "            y_pred = regr.predict(x_test.to_numpy().reshape(-1,1))\n",
    "            d_atr = y_test.to_numpy() - y_pred\n",
    "            m_atr = d_atr.sum()\n",
    "            res_df.loc[m_test_end[i],stk] = m_atr\n",
    "    \n",
    "    res_df.T.to_csv(path)\n",
    "    return res_df.T"
   ]
  },
  {
   "cell_type": "code",
   "execution_count": null,
   "id": "cfbe67c1-8b58-40d2-b1bd-38ad6854f864",
   "metadata": {},
   "outputs": [],
   "source": [
    "get_atr(stk_tr=stk_tr, mkt_tr=mkt_tr, path='C:/Users/ShaunMarx/助研_人大/Ourproject01_China_stock/Data/factors/atr.csv')"
   ]
  },
  {
   "cell_type": "markdown",
   "id": "e308de42",
   "metadata": {},
   "source": [
    " ## 4. std_turn\n",
    " Monthly standard deviation of daily share turnover"
   ]
  },
  {
   "cell_type": "code",
   "execution_count": null,
   "id": "78ad3c7c",
   "metadata": {},
   "outputs": [],
   "source": [
    "def get_std_turn(turnover:pd.DataFrame, path:str):\n",
    "    std_turn = turnover.resample(\"M\").apply(np.std)\n",
    "    \n",
    "    std_turn.T.to_csv(path)\n",
    "    # return std_turn.T"
   ]
  },
  {
   "cell_type": "code",
   "execution_count": null,
   "id": "a8242654",
   "metadata": {},
   "outputs": [],
   "source": [
    "to = extract_variable(path=PATH+\"03个股日交易衍生指标\",variable=\"Turnover\",\n",
    "                       index=['TradingDate'],columns=['Symbol']).loc['2000-01-01':'2021-11-30',:]\n",
    "to"
   ]
  },
  {
   "cell_type": "code",
   "execution_count": null,
   "id": "08c9b723",
   "metadata": {},
   "outputs": [],
   "source": [
    "get_std_turn(to, \"C:/Users/ShaunMarx/助研_人大/Ourproject01_China_stock/Data/factors/std_turn.csv\")"
   ]
  },
  {
   "cell_type": "markdown",
   "id": "52df78c1",
   "metadata": {},
   "source": [
    "## 5. ill\n",
    "Average of daily (absolute return/RMB volume) in month t"
   ]
  },
  {
   "cell_type": "code",
   "execution_count": null,
   "id": "76237a07",
   "metadata": {},
   "outputs": [],
   "source": [
    "abs_ret = extract_variable(path=PATH+\"01日个股回报率\", variable=\"Dretwd\").loc['2000-01-01':'2021-11-30',:]\n",
    "abs_ret"
   ]
  },
  {
   "cell_type": "code",
   "execution_count": null,
   "id": "21d011db",
   "metadata": {},
   "outputs": [],
   "source": [
    "val_trd = extract_variable(path=PATH+\"01日个股回报率\", variable=\"Dnvaltrd\").loc['2000-01-01':'2021-11-30',:]\n",
    "val_trd"
   ]
  },
  {
   "cell_type": "code",
   "execution_count": null,
   "id": "a136331e",
   "metadata": {},
   "outputs": [],
   "source": [
    "def get_ill(abs_ret:pd.DataFrame, val_trd:pd.DataFrame, path:str):\n",
    "    abs_ret = abs_ret * 1e8\n",
    "    res  = abs_ret / val_trd\n",
    "    res = res.resample(\"M\").mean()\n",
    "    \n",
    "    res.T.to_csv(path)\n",
    "    return res"
   ]
  },
  {
   "cell_type": "code",
   "execution_count": null,
   "id": "2cf1a49f",
   "metadata": {},
   "outputs": [],
   "source": [
    "get_ill(abs_ret=abs_ret,val_trd=val_trd,path=\"C:/Users/ShaunMarx/助研_人大/Ourproject01_China_stock/Data/factors/ill.csv\")"
   ]
  },
  {
   "cell_type": "markdown",
   "id": "26d0bed9",
   "metadata": {},
   "source": [
    "## 5. mve\n",
    "Natural log of market capitalization at end of month t-1"
   ]
  },
  {
   "cell_type": "code",
   "execution_count": null,
   "id": "b8182dbb",
   "metadata": {},
   "outputs": [],
   "source": [
    "mktval = extract_variable(path=PATH+\"01日个股回报率\", variable=\"Dsmvtll\").loc['2000-01-01':'2021-11-30',:]\n",
    "mktval"
   ]
  },
  {
   "cell_type": "code",
   "execution_count": null,
   "id": "0cd693b2",
   "metadata": {},
   "outputs": [],
   "source": [
    "def get_mve(mktval:pd.DataFrame, path:str):\n",
    "    res = mktval.resample('M').last()\n",
    "    res = res.applymap(lambda x: np.log(x))\n",
    "    \n",
    "    res.T.to_csv(path)\n",
    "    return res"
   ]
  },
  {
   "cell_type": "code",
   "execution_count": null,
   "id": "8d70c64f",
   "metadata": {},
   "outputs": [],
   "source": [
    "get_mve(mktval=mktval,path=\"C:/Users/ShaunMarx/助研_人大/Ourproject01_China_stock/Data/factors/mve.csv\")"
   ]
  },
  {
   "cell_type": "markdown",
   "id": "e92eeabc",
   "metadata": {},
   "source": [
    "## 6. nincr\n",
    "Number of consecutive quarters (up to eight quarters) with an increase in earnings"
   ]
  },
  {
   "cell_type": "code",
   "execution_count": null,
   "id": "ed949ee1",
   "metadata": {},
   "outputs": [],
   "source": [
    "ern = extract_variable_oneFile(filePath=PATH+\"04财务指标分析/FI_T5.csv\",index=[\"Accper\"],columns=[\"Stkcd\"],\n",
    "                               variable=\"F050701B\").loc['2000-01-01':'2021-11-30',:]\n",
    "ern"
   ]
  },
  {
   "cell_type": "code",
   "execution_count": null,
   "id": "ce2011f3",
   "metadata": {},
   "outputs": [],
   "source": [
    "def consec_count(s):\n",
    "    i = 0\n",
    "    for x in s[::-1]:\n",
    "        if x == True:\n",
    "            i = i+1\n",
    "        else:\n",
    "            break\n",
    "    return i\n",
    "\n",
    "def get_nincr(ern:pd.DataFrame, path:str):\n",
    "    ern = ern.applymap(lambda x: True if x>0 else False)\n",
    "    res = ern.rolling(window=8).apply(consec_count)\n",
    "    \n",
    "    res.T.to_csv(path)\n",
    "    return res"
   ]
  },
  {
   "cell_type": "code",
   "execution_count": null,
   "id": "3779e2f3",
   "metadata": {},
   "outputs": [],
   "source": [
    "get_nincr(ern=ern,path=\"C:/Users/ShaunMarx/助研_人大/Ourproject01_China_stock/Data/factors/nincr.csv\")"
   ]
  },
  {
   "cell_type": "markdown",
   "id": "37b85853",
   "metadata": {},
   "source": [
    "## 2.7. bmr_ia\n",
    "industry-adjusted book-to-market ratio"
   ]
  },
  {
   "cell_type": "code",
   "execution_count": null,
   "id": "0f9ccee3",
   "metadata": {},
   "outputs": [],
   "source": [
    "# input 1: book-to-market ratio\n",
    "bmr = extract_variable_oneFile(filePath=PATH+\"04财务指标分析/FI_T10.csv\",\n",
    "                               variable=\"F101001A\", index=['Accper']).loc['2000-01-01':'2021-11-30',:]\n",
    "bmr"
   ]
  },
  {
   "cell_type": "code",
   "execution_count": null,
   "id": "24c4e310",
   "metadata": {},
   "outputs": [],
   "source": [
    "# input 2: stock classification\n",
    "cls = pd.read_csv('D:/csmar解压数据/05上市公司行业分类表/STK_INDUSTRYCLASS.csv', index_col=[4], parse_dates=True)\n",
    "df1 = cls[cls['Symbol'] >= 0]\n",
    "df1 = df1[df1['Symbol'] <= 9999]\n",
    "df2 = cls[cls['Symbol'] >= 600000]\n",
    "df2 = df2[df2['Symbol'] <= 609999]\n",
    "cls = pd.concat([df1, df2])\n",
    "cls"
   ]
  },
  {
   "cell_type": "code",
   "execution_count": null,
   "id": "4261a540",
   "metadata": {},
   "outputs": [],
   "source": [
    "# 查看不同分类标准对股票的覆盖面，希望找到最全的，'P02**'在csmar中是分类标准代码\n",
    "for i in ['P0201','P0202','P0203','P0204','P0205','P0206','P0207','P0208','P0209','P0210','P0211','P0212','P0213','P0214','P0215']:\n",
    "    df = cls[cls['IndustryClassificationID'] == i]\n",
    "    print(i,df['Symbol'].nunique())"
   ]
  },
  {
   "cell_type": "code",
   "execution_count": null,
   "id": "d1431795",
   "metadata": {},
   "outputs": [],
   "source": [
    "# 发现证监会2012版覆盖面最全\n",
    "cls = cls[cls['IndustryClassificationID'] == 'P0207']\n",
    "cls = cls[['Symbol','IndustryCode']]\n",
    "cls"
   ]
  },
  {
   "cell_type": "markdown",
   "id": "41669adc",
   "metadata": {},
   "source": [
    "#### 专门定义一个函数用来做等权重均值作差的行业调整，适用于全部以_ia结尾的因子"
   ]
  },
  {
   "cell_type": "code",
   "execution_count": null,
   "id": "4e2d080d",
   "metadata": {},
   "outputs": [],
   "source": [
    "def EWA_industry_adjust(value_df:pd.DataFrame, industry_df:pd.DataFrame):\n",
    "    \"\"\"\n",
    "    equally-weighted average industry-adjusted:\n",
    "    x_ia_it = x_it − x_Iit\n",
    "    \n",
    "    params:\n",
    "    value_df: a 2-dimension(rows are dates,cols are codes) table of target values\n",
    "    industry_df: classification informantion, a 3-column table, cols are implement date, stock code, industry classification\n",
    "    \"\"\"\n",
    "    industry_df.sort_index(inplace=True)\n",
    "    for d in value_df.index:\n",
    "        value_sec = value_df.loc[d]\n",
    "        symbols = value_sec.index.sort_values()\n",
    "        group = []\n",
    "        for s in symbols:\n",
    "            c = industry_df[industry_df.iloc[:,0] == s]\n",
    "            c = c[c.index <= d]\n",
    "            c = c.tail(1)\n",
    "            if c.empty:\n",
    "                c = np.nan\n",
    "            else:\n",
    "                c = c.iloc[0,1]\n",
    "            group.append(c)\n",
    "        means = value_sec.groupby(group).mean()\n",
    "        for s in symbols:\n",
    "            c = industry_df[industry_df.iloc[:,0] == s]\n",
    "            c = c[c.index <= d]\n",
    "            c = c.tail(1)\n",
    "            if c.empty:\n",
    "                value_df.loc[d,s] = np.nan\n",
    "            else:\n",
    "                c = c.iloc[0,1]\n",
    "                m = means[c]\n",
    "                value_df.loc[d,s] -= m\n",
    "        print(d)\n",
    "    return value_df"
   ]
  },
  {
   "cell_type": "code",
   "execution_count": null,
   "id": "e4ee460f",
   "metadata": {},
   "outputs": [],
   "source": [
    "data = EWA_industry_adjust(value_df=bmr, industry_df=cls)"
   ]
  },
  {
   "cell_type": "code",
   "execution_count": null,
   "id": "fca5fde2",
   "metadata": {},
   "outputs": [],
   "source": [
    "data = bmr_ia\n",
    "data"
   ]
  },
  {
   "cell_type": "code",
   "execution_count": null,
   "id": "d1c67016",
   "metadata": {},
   "outputs": [],
   "source": [
    "# 要删\n",
    "bmr_ia = data\n",
    "bmr_ia"
   ]
  },
  {
   "cell_type": "code",
   "execution_count": null,
   "id": "b6365cca",
   "metadata": {},
   "outputs": [],
   "source": [
    "# 先做一次变频fill\n",
    "bmr_ia = bmr_ia.asfreq('d')\n",
    "bmr_ia.fillna(method='ffill', inplace=True)\n",
    "bmr_ia"
   ]
  },
  {
   "cell_type": "code",
   "execution_count": null,
   "id": "1edc63ad",
   "metadata": {
    "scrolled": false
   },
   "outputs": [],
   "source": [
    "index = pd.read_csv('A股市场交易日.csv', index_col=[1], parse_dates=True)\n",
    "index = index.loc['1999-12-01':'2021-11-30']\n",
    "index"
   ]
  },
  {
   "cell_type": "code",
   "execution_count": null,
   "id": "ced38fd5",
   "metadata": {},
   "outputs": [],
   "source": [
    "bmr_ia = bmr_ia.reindex(index.index)"
   ]
  },
  {
   "cell_type": "code",
   "execution_count": null,
   "id": "dca1b4c4",
   "metadata": {},
   "outputs": [],
   "source": [
    "bmr_ia.fillna(method='ffill', inplace=True)"
   ]
  },
  {
   "cell_type": "code",
   "execution_count": null,
   "id": "6e415eab",
   "metadata": {},
   "outputs": [],
   "source": [
    "bmr_ia"
   ]
  },
  {
   "cell_type": "code",
   "execution_count": null,
   "id": "28640104",
   "metadata": {},
   "outputs": [],
   "source": [
    "bmr_ia.T.to_csv(\"C:/Users/ShaunMarx/助研_人大/Ourproject01_China_stock/Data/factors/bmr_ia.csv\")"
   ]
  },
  {
   "cell_type": "code",
   "execution_count": null,
   "id": "2b128fd8",
   "metadata": {},
   "outputs": [],
   "source": []
  }
 ],
 "metadata": {
  "kernelspec": {
   "display_name": "Python 3",
   "language": "python",
   "name": "python3"
  },
  "language_info": {
   "codemirror_mode": {
    "name": "ipython",
    "version": 3
   },
   "file_extension": ".py",
   "mimetype": "text/x-python",
   "name": "python",
   "nbconvert_exporter": "python",
   "pygments_lexer": "ipython3",
   "version": "3.8.8"
  }
 },
 "nbformat": 4,
 "nbformat_minor": 5
}
