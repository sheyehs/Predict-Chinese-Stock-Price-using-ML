{
 "cells": [
  {
   "cell_type": "code",
   "execution_count": null,
   "id": "6b9bdeac",
   "metadata": {},
   "outputs": [],
   "source": [
    "from csmarapi.CsmarService import CsmarService\n",
    "csmar = CsmarService()\n",
    "# 登录csmar账号。退出前记得清空密码\n",
    "csmar.login('sye@ruc.edu.cn', 'wddsye632000', '0')\n",
    "#csmar.login('2018200937@ruc.edu.cn', '', '0')"
   ]
  },
  {
   "cell_type": "code",
   "execution_count": null,
   "id": "8710cc28",
   "metadata": {
    "scrolled": true
   },
   "outputs": [],
   "source": [
    "# 查看有权限的所有数据库\n",
    "csmar.getListDbs()"
   ]
  },
  {
   "cell_type": "code",
   "execution_count": null,
   "id": "2092c5e2",
   "metadata": {
    "scrolled": true
   },
   "outputs": [],
   "source": [
    "# 查看某数据库下的所有表格\n",
    "csmar.getListTables(\"风险评价系数β\")"
   ]
  },
  {
   "cell_type": "code",
   "execution_count": null,
   "id": "4dced718",
   "metadata": {},
   "outputs": [],
   "source": [
    "# 查看某表格中的所有字段\n",
    "csmar.getListFields(\"TRD_Dalyr\")"
   ]
  },
  {
   "cell_type": "markdown",
   "id": "eda98f89",
   "metadata": {},
   "source": [
    "## 下载表格。API默认将压缩包存储在c:/csmardata/\n",
    "### 1.请求有每次时长限制的表格。所有字段"
   ]
  },
  {
   "cell_type": "code",
   "execution_count": null,
   "id": "b1465659",
   "metadata": {},
   "outputs": [],
   "source": [
    "def getTableByPeriod(table, periodList):\n",
    "    fieldInfo = csmar.getListFields(table)\n",
    "    columns = []\n",
    "    for f in fieldInfo:\n",
    "        columns.append(f[\"field\"])\n",
    "    for p in periodList:\n",
    "        csmar.getPackResultExt(columns,\"\",table, p[0], p[1])"
   ]
  },
  {
   "cell_type": "code",
   "execution_count": null,
   "id": "cd8206be",
   "metadata": {},
   "outputs": [],
   "source": [
    "# 列出需要分批的时段\n",
    "periodList = [(\"1999-01-01\",\"2000-12-31\"),\n",
    "              (\"2001-01-01\",\"2002-12-31\"),\n",
    "              (\"2003-01-01\",\"2004-12-31\"),\n",
    "              (\"2005-01-01\",\"2006-12-31\"),\n",
    "              (\"2007-01-01\",\"2008-12-31\"),\n",
    "              (\"2009-01-01\",\"2010-12-31\"),\n",
    "              (\"2011-01-01\",\"2012-12-31\"),\n",
    "              (\"2013-01-01\",\"2014-12-31\"),\n",
    "              (\"2015-01-01\",\"2016-12-31\"),\n",
    "              (\"2017-01-01\",\"2018-12-31\"),\n",
    "              (\"2019-01-01\",\"2020-12-31\"),\n",
    "              (\"2021-01-01\",\"2022-01-23\")\n",
    "             ]\n",
    "getTableByPeriod(\"BETA_Dbeta\", periodList)"
   ]
  },
  {
   "cell_type": "markdown",
   "id": "808b90b1",
   "metadata": {},
   "source": [
    "### 2.请求一般的表格。所有字段"
   ]
  },
  {
   "cell_type": "code",
   "execution_count": null,
   "id": "98daac43",
   "metadata": {},
   "outputs": [],
   "source": [
    "def getTable(table):\n",
    "    fieldInfo = csmar.getListFields(table)\n",
    "    columns = []\n",
    "    for f in fieldInfo:\n",
    "        columns.append(f[\"field\"])\n",
    "    csmar.getPackResultExt(columns,\"\",table)"
   ]
  },
  {
   "cell_type": "code",
   "execution_count": null,
   "id": "361c5405",
   "metadata": {},
   "outputs": [],
   "source": [
    "getTable(\"FI_T11\")"
   ]
  }
 ],
 "metadata": {
  "kernelspec": {
   "display_name": "Python 3",
   "language": "python",
   "name": "python3"
  },
  "language_info": {
   "codemirror_mode": {
    "name": "ipython",
    "version": 3
   },
   "file_extension": ".py",
   "mimetype": "text/x-python",
   "name": "python",
   "nbconvert_exporter": "python",
   "pygments_lexer": "ipython3",
   "version": "3.8.8"
  }
 },
 "nbformat": 4,
 "nbformat_minor": 5
}
